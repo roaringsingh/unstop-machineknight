{
 "cells": [
  {
   "cell_type": "code",
   "execution_count": null,
   "metadata": {
    "id": "MXhAgypsOva5",
    "pycharm": {
     "name": "#%%\n"
    }
   },
   "outputs": [],
   "source": [
    "# pip install pycaret"
   ]
  },
  {
   "cell_type": "code",
   "execution_count": null,
   "metadata": {
    "id": "lqr-11qPPRyx",
    "pycharm": {
     "name": "#%%\n"
    }
   },
   "outputs": [],
   "source": [
    "# pip install markupsafe==2.0.1"
   ]
  },
  {
   "cell_type": "markdown",
   "source": [
    "##Importing dependencies"
   ],
   "metadata": {
    "id": "-q8aeZoVpMCY",
    "pycharm": {
     "name": "#%% md\n"
    }
   }
  },
  {
   "cell_type": "code",
   "execution_count": 47,
   "metadata": {
    "id": "W7pvEfQxOVxF",
    "pycharm": {
     "name": "#%%\n"
    }
   },
   "outputs": [],
   "source": [
    "import pandas as pd\n",
    "import numpy as np\n",
    "import matplotlib.pyplot as plt\n",
    "import seaborn as sns\n",
    "import json\n",
    "import lightgbm\n",
    "from pickle import dump\n",
    "from sklearn.preprocessing import RobustScaler\n",
    "from pycaret.regression import *"
   ]
  },
  {
   "cell_type": "code",
   "execution_count": 48,
   "metadata": {
    "id": "EOoy-IrmObvz",
    "pycharm": {
     "name": "#%%\n"
    }
   },
   "outputs": [],
   "source": [
    "np.random.seed(13)"
   ]
  },
  {
   "cell_type": "markdown",
   "source": [
    "##Preprocessing Function"
   ],
   "metadata": {
    "id": "PV-9yyNtpYhG",
    "pycharm": {
     "name": "#%% md\n"
    }
   }
  },
  {
   "cell_type": "code",
   "execution_count": 49,
   "metadata": {
    "id": "MiuG8xKuOgZI",
    "pycharm": {
     "name": "#%%\n"
    }
   },
   "outputs": [],
   "source": [
    "def preprocess(df):\n",
    "  df.fillna(0)\n",
    "  col=df.columns\n",
    "  df[col[1]].replace(['RK1','BHK1','BHK2','BHK3','BHK4','BHK4PLUS'],[0,1,2,3,4,5],inplace=True)\n",
    "  df[col[3]] = pd.to_datetime(df[col[3]])\n",
    "  df['activation_year'] = df['activation_date'].dt.year\n",
    "  df['activation_month'] = df['activation_date'].dt.month\n",
    "  df['activation_day'] = df['activation_date'].dt.day\n",
    "  df['activation_hour'] = df['activation_date'].dt.hour\n",
    "  df['activation_minute'] = df['activation_date'].dt.minute\n",
    "  df[col[6]].replace(['FAMILY','ANYONE','BACHELOR','COMPANY'],[0,1,2,3],inplace=True)\n",
    "  df[col[11]].replace(['SEMI_FURNISHED','FULLY_FURNISHED','NOT_FURNISHED'],[1,2,0],inplace=True)\n",
    "  df[col[12]].replace(['BOTH','TWO_WHEELER','NONE','FOUR_WHEELER'],[3,1,0,2],inplace=True)\n",
    "  df[col[14]] = df[col[14]].clip(lower=0)\n",
    "  df[col[16]].replace(['E', 'NE', 'S', 'N', 'SE', 'W', 'NW', 'SW'],[0,1,2,3,4,5,6,7],inplace=True)\n",
    "  df[col[21]].replace(['CORP_BORE', 'CORPORATION', 'BOREWELL'],[0,1,2],inplace=True)\n",
    "  df[col[22]].replace(['AP', 'IH', 'IF', 'GC'],[0,1,2,3],inplace=True)\n",
    "\n",
    "\n",
    "  def str_to_dict(string):\n",
    "    res=json.loads(string)\n",
    "    return res\n",
    "\n",
    "\n",
    "  df[col[20]]=df[col[20]].map(str_to_dict)\n",
    "  attri=df[col[20]].apply(pd.Series)\n",
    "  \n",
    "  # Working on attributes\n",
    "  newcol=attri.columns\n",
    "\n",
    "\n",
    "  def as_int_type(column):\n",
    "    return column.fillna(0).astype(int)\n",
    "\n",
    "\n",
    "  for i in range(19):\n",
    "    attri[newcol[i]]=as_int_type(attri[newcol[i]])\n",
    "\n",
    "  df.drop([col[0],col[2],col[3],col[20]],axis=1,inplace=True)\n",
    "  predata = pd.concat([df, attri], axis=1)\n",
    "  return predata"
   ]
  },
  {
   "cell_type": "code",
   "execution_count": 77,
   "metadata": {
    "id": "707rD6HqOlL7",
    "pycharm": {
     "name": "#%%\n"
    }
   },
   "outputs": [],
   "source": [
    "dftrain=pd.read_csv('train.csv')\n",
    "dftest=pd.read_csv('test.csv')"
   ]
  },
  {
   "cell_type": "markdown",
   "source": [
    "Target feature extracted"
   ],
   "metadata": {
    "id": "qO-A1AYJpu6J",
    "pycharm": {
     "name": "#%% md\n"
    }
   }
  },
  {
   "cell_type": "code",
   "execution_count": 78,
   "metadata": {
    "id": "uGqPx9FQOo7e",
    "pycharm": {
     "name": "#%%\n"
    }
   },
   "outputs": [],
   "source": [
    "target=dftrain['rent']\n",
    "dftrain.drop(['rent'],axis=1,inplace=True)\n",
    "pretrain = preprocess(dftrain)"
   ]
  },
  {
   "cell_type": "code",
   "source": [
    "pretest = preprocess(dftest)"
   ],
   "metadata": {
    "id": "kRd7Y9JEcyUT",
    "pycharm": {
     "name": "#%%\n"
    }
   },
   "execution_count": 79,
   "outputs": []
  },
  {
   "cell_type": "code",
   "source": [
    "pretrain.describe()"
   ],
   "metadata": {
    "colab": {
     "base_uri": "https://localhost:8080/",
     "height": 394
    },
    "id": "9zWsMWAX4ZVi",
    "outputId": "3a1e7870-c727-4c5c-c9af-b3fd02fd5aca",
    "pycharm": {
     "name": "#%%\n"
    }
   },
   "execution_count": 80,
   "outputs": [
    {
     "output_type": "execute_result",
     "data": {
      "text/plain": [
       "               type      latitude     longitude    lease_type           gym  \\\n",
       "count  20500.000000  20500.000000  20500.000000  20500.000000  20500.000000   \n",
       "mean       2.012439     12.945751     77.637280      0.538000      0.226732   \n",
       "std        0.746517      0.029594      0.110586      0.568169      0.418728   \n",
       "min        0.000000     12.900004     77.500072      0.000000      0.000000   \n",
       "25%        2.000000     12.918188     77.571956      0.000000      0.000000   \n",
       "50%        2.000000     12.943800     77.633491      1.000000      0.000000   \n",
       "75%        2.000000     12.970952     77.695760      1.000000      0.000000   \n",
       "max        5.000000     12.999999     80.266346      3.000000      1.000000   \n",
       "\n",
       "               lift  swimming_pool    negotiable    furnishing       parking  \\\n",
       "count  20500.000000   20500.000000  20500.000000  20500.000000  20500.000000   \n",
       "mean       0.361463       0.174927      0.711512      0.987659      2.073366   \n",
       "std        0.480436       0.379914      0.453070      0.356268      1.037557   \n",
       "min        0.000000       0.000000      0.000000      0.000000      0.000000   \n",
       "25%        0.000000       0.000000      0.000000      1.000000      1.000000   \n",
       "50%        0.000000       0.000000      1.000000      1.000000      3.000000   \n",
       "75%        1.000000       0.000000      1.000000      1.000000      3.000000   \n",
       "max        1.000000       1.000000      1.000000      2.000000      3.000000   \n",
       "\n",
       "       ...       SERVANT      SECURITY            SC            GP  \\\n",
       "count  ...  20500.000000  20500.000000  20500.000000  20500.000000   \n",
       "mean   ...      0.037268      0.473561      0.471122      0.100098   \n",
       "std    ...      0.189423      0.499313      0.499178      0.300137   \n",
       "min    ...      0.000000      0.000000      0.000000      0.000000   \n",
       "25%    ...      0.000000      0.000000      0.000000      0.000000   \n",
       "50%    ...      0.000000      0.000000      0.000000      0.000000   \n",
       "75%    ...      0.000000      1.000000      1.000000      0.000000   \n",
       "max    ...      1.000000      1.000000      1.000000      1.000000   \n",
       "\n",
       "               PARK           RWH           STP            HK            PB  \\\n",
       "count  20500.000000  20500.000000  20500.000000  20500.000000  20500.000000   \n",
       "mean       0.505366      0.247024      0.171024      0.198732      0.365610   \n",
       "std        0.499983      0.431292      0.376539      0.399055      0.481612   \n",
       "min        0.000000      0.000000      0.000000      0.000000      0.000000   \n",
       "25%        0.000000      0.000000      0.000000      0.000000      0.000000   \n",
       "50%        1.000000      0.000000      0.000000      0.000000      0.000000   \n",
       "75%        1.000000      0.000000      0.000000      0.000000      1.000000   \n",
       "max        1.000000      1.000000      1.000000      1.000000      1.000000   \n",
       "\n",
       "                 VP  \n",
       "count  20500.000000  \n",
       "mean       0.238878  \n",
       "std        0.426408  \n",
       "min        0.000000  \n",
       "25%        0.000000  \n",
       "50%        0.000000  \n",
       "75%        0.000000  \n",
       "max        1.000000  \n",
       "\n",
       "[8 rows x 44 columns]"
      ],
      "text/html": [
       "\n",
       "  <div id=\"df-f28b6a25-e128-4d5e-b82c-e996a6c2e0c2\">\n",
       "    <div class=\"colab-df-container\">\n",
       "      <div>\n",
       "<style scoped>\n",
       "    .dataframe tbody tr th:only-of-type {\n",
       "        vertical-align: middle;\n",
       "    }\n",
       "\n",
       "    .dataframe tbody tr th {\n",
       "        vertical-align: top;\n",
       "    }\n",
       "\n",
       "    .dataframe thead th {\n",
       "        text-align: right;\n",
       "    }\n",
       "</style>\n",
       "<table border=\"1\" class=\"dataframe\">\n",
       "  <thead>\n",
       "    <tr style=\"text-align: right;\">\n",
       "      <th></th>\n",
       "      <th>type</th>\n",
       "      <th>latitude</th>\n",
       "      <th>longitude</th>\n",
       "      <th>lease_type</th>\n",
       "      <th>gym</th>\n",
       "      <th>lift</th>\n",
       "      <th>swimming_pool</th>\n",
       "      <th>negotiable</th>\n",
       "      <th>furnishing</th>\n",
       "      <th>parking</th>\n",
       "      <th>...</th>\n",
       "      <th>SERVANT</th>\n",
       "      <th>SECURITY</th>\n",
       "      <th>SC</th>\n",
       "      <th>GP</th>\n",
       "      <th>PARK</th>\n",
       "      <th>RWH</th>\n",
       "      <th>STP</th>\n",
       "      <th>HK</th>\n",
       "      <th>PB</th>\n",
       "      <th>VP</th>\n",
       "    </tr>\n",
       "  </thead>\n",
       "  <tbody>\n",
       "    <tr>\n",
       "      <th>count</th>\n",
       "      <td>20500.000000</td>\n",
       "      <td>20500.000000</td>\n",
       "      <td>20500.000000</td>\n",
       "      <td>20500.000000</td>\n",
       "      <td>20500.000000</td>\n",
       "      <td>20500.000000</td>\n",
       "      <td>20500.000000</td>\n",
       "      <td>20500.000000</td>\n",
       "      <td>20500.000000</td>\n",
       "      <td>20500.000000</td>\n",
       "      <td>...</td>\n",
       "      <td>20500.000000</td>\n",
       "      <td>20500.000000</td>\n",
       "      <td>20500.000000</td>\n",
       "      <td>20500.000000</td>\n",
       "      <td>20500.000000</td>\n",
       "      <td>20500.000000</td>\n",
       "      <td>20500.000000</td>\n",
       "      <td>20500.000000</td>\n",
       "      <td>20500.000000</td>\n",
       "      <td>20500.000000</td>\n",
       "    </tr>\n",
       "    <tr>\n",
       "      <th>mean</th>\n",
       "      <td>2.012439</td>\n",
       "      <td>12.945751</td>\n",
       "      <td>77.637280</td>\n",
       "      <td>0.538000</td>\n",
       "      <td>0.226732</td>\n",
       "      <td>0.361463</td>\n",
       "      <td>0.174927</td>\n",
       "      <td>0.711512</td>\n",
       "      <td>0.987659</td>\n",
       "      <td>2.073366</td>\n",
       "      <td>...</td>\n",
       "      <td>0.037268</td>\n",
       "      <td>0.473561</td>\n",
       "      <td>0.471122</td>\n",
       "      <td>0.100098</td>\n",
       "      <td>0.505366</td>\n",
       "      <td>0.247024</td>\n",
       "      <td>0.171024</td>\n",
       "      <td>0.198732</td>\n",
       "      <td>0.365610</td>\n",
       "      <td>0.238878</td>\n",
       "    </tr>\n",
       "    <tr>\n",
       "      <th>std</th>\n",
       "      <td>0.746517</td>\n",
       "      <td>0.029594</td>\n",
       "      <td>0.110586</td>\n",
       "      <td>0.568169</td>\n",
       "      <td>0.418728</td>\n",
       "      <td>0.480436</td>\n",
       "      <td>0.379914</td>\n",
       "      <td>0.453070</td>\n",
       "      <td>0.356268</td>\n",
       "      <td>1.037557</td>\n",
       "      <td>...</td>\n",
       "      <td>0.189423</td>\n",
       "      <td>0.499313</td>\n",
       "      <td>0.499178</td>\n",
       "      <td>0.300137</td>\n",
       "      <td>0.499983</td>\n",
       "      <td>0.431292</td>\n",
       "      <td>0.376539</td>\n",
       "      <td>0.399055</td>\n",
       "      <td>0.481612</td>\n",
       "      <td>0.426408</td>\n",
       "    </tr>\n",
       "    <tr>\n",
       "      <th>min</th>\n",
       "      <td>0.000000</td>\n",
       "      <td>12.900004</td>\n",
       "      <td>77.500072</td>\n",
       "      <td>0.000000</td>\n",
       "      <td>0.000000</td>\n",
       "      <td>0.000000</td>\n",
       "      <td>0.000000</td>\n",
       "      <td>0.000000</td>\n",
       "      <td>0.000000</td>\n",
       "      <td>0.000000</td>\n",
       "      <td>...</td>\n",
       "      <td>0.000000</td>\n",
       "      <td>0.000000</td>\n",
       "      <td>0.000000</td>\n",
       "      <td>0.000000</td>\n",
       "      <td>0.000000</td>\n",
       "      <td>0.000000</td>\n",
       "      <td>0.000000</td>\n",
       "      <td>0.000000</td>\n",
       "      <td>0.000000</td>\n",
       "      <td>0.000000</td>\n",
       "    </tr>\n",
       "    <tr>\n",
       "      <th>25%</th>\n",
       "      <td>2.000000</td>\n",
       "      <td>12.918188</td>\n",
       "      <td>77.571956</td>\n",
       "      <td>0.000000</td>\n",
       "      <td>0.000000</td>\n",
       "      <td>0.000000</td>\n",
       "      <td>0.000000</td>\n",
       "      <td>0.000000</td>\n",
       "      <td>1.000000</td>\n",
       "      <td>1.000000</td>\n",
       "      <td>...</td>\n",
       "      <td>0.000000</td>\n",
       "      <td>0.000000</td>\n",
       "      <td>0.000000</td>\n",
       "      <td>0.000000</td>\n",
       "      <td>0.000000</td>\n",
       "      <td>0.000000</td>\n",
       "      <td>0.000000</td>\n",
       "      <td>0.000000</td>\n",
       "      <td>0.000000</td>\n",
       "      <td>0.000000</td>\n",
       "    </tr>\n",
       "    <tr>\n",
       "      <th>50%</th>\n",
       "      <td>2.000000</td>\n",
       "      <td>12.943800</td>\n",
       "      <td>77.633491</td>\n",
       "      <td>1.000000</td>\n",
       "      <td>0.000000</td>\n",
       "      <td>0.000000</td>\n",
       "      <td>0.000000</td>\n",
       "      <td>1.000000</td>\n",
       "      <td>1.000000</td>\n",
       "      <td>3.000000</td>\n",
       "      <td>...</td>\n",
       "      <td>0.000000</td>\n",
       "      <td>0.000000</td>\n",
       "      <td>0.000000</td>\n",
       "      <td>0.000000</td>\n",
       "      <td>1.000000</td>\n",
       "      <td>0.000000</td>\n",
       "      <td>0.000000</td>\n",
       "      <td>0.000000</td>\n",
       "      <td>0.000000</td>\n",
       "      <td>0.000000</td>\n",
       "    </tr>\n",
       "    <tr>\n",
       "      <th>75%</th>\n",
       "      <td>2.000000</td>\n",
       "      <td>12.970952</td>\n",
       "      <td>77.695760</td>\n",
       "      <td>1.000000</td>\n",
       "      <td>0.000000</td>\n",
       "      <td>1.000000</td>\n",
       "      <td>0.000000</td>\n",
       "      <td>1.000000</td>\n",
       "      <td>1.000000</td>\n",
       "      <td>3.000000</td>\n",
       "      <td>...</td>\n",
       "      <td>0.000000</td>\n",
       "      <td>1.000000</td>\n",
       "      <td>1.000000</td>\n",
       "      <td>0.000000</td>\n",
       "      <td>1.000000</td>\n",
       "      <td>0.000000</td>\n",
       "      <td>0.000000</td>\n",
       "      <td>0.000000</td>\n",
       "      <td>1.000000</td>\n",
       "      <td>0.000000</td>\n",
       "    </tr>\n",
       "    <tr>\n",
       "      <th>max</th>\n",
       "      <td>5.000000</td>\n",
       "      <td>12.999999</td>\n",
       "      <td>80.266346</td>\n",
       "      <td>3.000000</td>\n",
       "      <td>1.000000</td>\n",
       "      <td>1.000000</td>\n",
       "      <td>1.000000</td>\n",
       "      <td>1.000000</td>\n",
       "      <td>2.000000</td>\n",
       "      <td>3.000000</td>\n",
       "      <td>...</td>\n",
       "      <td>1.000000</td>\n",
       "      <td>1.000000</td>\n",
       "      <td>1.000000</td>\n",
       "      <td>1.000000</td>\n",
       "      <td>1.000000</td>\n",
       "      <td>1.000000</td>\n",
       "      <td>1.000000</td>\n",
       "      <td>1.000000</td>\n",
       "      <td>1.000000</td>\n",
       "      <td>1.000000</td>\n",
       "    </tr>\n",
       "  </tbody>\n",
       "</table>\n",
       "<p>8 rows × 44 columns</p>\n",
       "</div>\n",
       "      <button class=\"colab-df-convert\" onclick=\"convertToInteractive('df-f28b6a25-e128-4d5e-b82c-e996a6c2e0c2')\"\n",
       "              title=\"Convert this dataframe to an interactive table.\"\n",
       "              style=\"display:none;\">\n",
       "        \n",
       "  <svg xmlns=\"http://www.w3.org/2000/svg\" height=\"24px\"viewBox=\"0 0 24 24\"\n",
       "       width=\"24px\">\n",
       "    <path d=\"M0 0h24v24H0V0z\" fill=\"none\"/>\n",
       "    <path d=\"M18.56 5.44l.94 2.06.94-2.06 2.06-.94-2.06-.94-.94-2.06-.94 2.06-2.06.94zm-11 1L8.5 8.5l.94-2.06 2.06-.94-2.06-.94L8.5 2.5l-.94 2.06-2.06.94zm10 10l.94 2.06.94-2.06 2.06-.94-2.06-.94-.94-2.06-.94 2.06-2.06.94z\"/><path d=\"M17.41 7.96l-1.37-1.37c-.4-.4-.92-.59-1.43-.59-.52 0-1.04.2-1.43.59L10.3 9.45l-7.72 7.72c-.78.78-.78 2.05 0 2.83L4 21.41c.39.39.9.59 1.41.59.51 0 1.02-.2 1.41-.59l7.78-7.78 2.81-2.81c.8-.78.8-2.07 0-2.86zM5.41 20L4 18.59l7.72-7.72 1.47 1.35L5.41 20z\"/>\n",
       "  </svg>\n",
       "      </button>\n",
       "      \n",
       "  <style>\n",
       "    .colab-df-container {\n",
       "      display:flex;\n",
       "      flex-wrap:wrap;\n",
       "      gap: 12px;\n",
       "    }\n",
       "\n",
       "    .colab-df-convert {\n",
       "      background-color: #E8F0FE;\n",
       "      border: none;\n",
       "      border-radius: 50%;\n",
       "      cursor: pointer;\n",
       "      display: none;\n",
       "      fill: #1967D2;\n",
       "      height: 32px;\n",
       "      padding: 0 0 0 0;\n",
       "      width: 32px;\n",
       "    }\n",
       "\n",
       "    .colab-df-convert:hover {\n",
       "      background-color: #E2EBFA;\n",
       "      box-shadow: 0px 1px 2px rgba(60, 64, 67, 0.3), 0px 1px 3px 1px rgba(60, 64, 67, 0.15);\n",
       "      fill: #174EA6;\n",
       "    }\n",
       "\n",
       "    [theme=dark] .colab-df-convert {\n",
       "      background-color: #3B4455;\n",
       "      fill: #D2E3FC;\n",
       "    }\n",
       "\n",
       "    [theme=dark] .colab-df-convert:hover {\n",
       "      background-color: #434B5C;\n",
       "      box-shadow: 0px 1px 3px 1px rgba(0, 0, 0, 0.15);\n",
       "      filter: drop-shadow(0px 1px 2px rgba(0, 0, 0, 0.3));\n",
       "      fill: #FFFFFF;\n",
       "    }\n",
       "  </style>\n",
       "\n",
       "      <script>\n",
       "        const buttonEl =\n",
       "          document.querySelector('#df-f28b6a25-e128-4d5e-b82c-e996a6c2e0c2 button.colab-df-convert');\n",
       "        buttonEl.style.display =\n",
       "          google.colab.kernel.accessAllowed ? 'block' : 'none';\n",
       "\n",
       "        async function convertToInteractive(key) {\n",
       "          const element = document.querySelector('#df-f28b6a25-e128-4d5e-b82c-e996a6c2e0c2');\n",
       "          const dataTable =\n",
       "            await google.colab.kernel.invokeFunction('convertToInteractive',\n",
       "                                                     [key], {});\n",
       "          if (!dataTable) return;\n",
       "\n",
       "          const docLinkHtml = 'Like what you see? Visit the ' +\n",
       "            '<a target=\"_blank\" href=https://colab.research.google.com/notebooks/data_table.ipynb>data table notebook</a>'\n",
       "            + ' to learn more about interactive tables.';\n",
       "          element.innerHTML = '';\n",
       "          dataTable['output_type'] = 'display_data';\n",
       "          await google.colab.output.renderOutput(dataTable, element);\n",
       "          const docLink = document.createElement('div');\n",
       "          docLink.innerHTML = docLinkHtml;\n",
       "          element.appendChild(docLink);\n",
       "        }\n",
       "      </script>\n",
       "    </div>\n",
       "  </div>\n",
       "  "
      ]
     },
     "metadata": {},
     "execution_count": 80
    }
   ]
  },
  {
   "cell_type": "code",
   "source": [
    "# pretrain.to_csv('out.csv',index=False) "
   ],
   "metadata": {
    "id": "2VDkB_6_j8g0",
    "pycharm": {
     "name": "#%%\n"
    }
   },
   "execution_count": 59,
   "outputs": []
  },
  {
   "cell_type": "markdown",
   "source": [
    "##Robust Scaling for transformation"
   ],
   "metadata": {
    "id": "zL3u1xdSufoU",
    "pycharm": {
     "name": "#%% md\n"
    }
   }
  },
  {
   "cell_type": "code",
   "source": [
    "transformer = RobustScaler().fit(pretrain)\n",
    "scaletrain=pd.DataFrame(transformer.transform(pretrain))"
   ],
   "metadata": {
    "id": "JQekOdbB63yc",
    "pycharm": {
     "name": "#%%\n"
    }
   },
   "execution_count": 82,
   "outputs": []
  },
  {
   "cell_type": "code",
   "source": [
    "scaletrain.describe()"
   ],
   "metadata": {
    "id": "LPCH_yQtnvEa",
    "pycharm": {
     "name": "#%%\n"
    }
   },
   "execution_count": null,
   "outputs": []
  },
  {
   "cell_type": "markdown",
   "source": [
    "Storing the transformer in pickle"
   ],
   "metadata": {
    "id": "VuO14lFfunAG",
    "pycharm": {
     "name": "#%% md\n"
    }
   }
  },
  {
   "cell_type": "code",
   "source": [
    "dump(transformer, open('robust_scaler.pkl', 'wb'))"
   ],
   "metadata": {
    "id": "yYTRH3g1TAEa",
    "pycharm": {
     "name": "#%%\n"
    }
   },
   "execution_count": 22,
   "outputs": []
  },
  {
   "cell_type": "code",
   "source": [
    "scaletest=pd.DataFrame(transformer.transform(pretest))"
   ],
   "metadata": {
    "id": "Ke5yqJJ7c7BM",
    "pycharm": {
     "name": "#%%\n"
    }
   },
   "execution_count": 85,
   "outputs": []
  },
  {
   "cell_type": "markdown",
   "source": [
    "Removing features with correlation >= 0.85"
   ],
   "metadata": {
    "id": "lK9D0weOuxhg",
    "pycharm": {
     "name": "#%% md\n"
    }
   }
  },
  {
   "cell_type": "code",
   "source": [
    "cor = scaletrain.corr()\n",
    "columns = np.full(cor.shape[0], True, dtype=bool)\n",
    "for i in range(cor.shape[0]):\n",
    "    for j in range(i+1, cor.shape[0]):\n",
    "        if cor.iloc[i,j] >= 0.85:\n",
    "            if columns[j]:\n",
    "                columns[j] = False"
   ],
   "metadata": {
    "id": "Q-uNqjwk4k43",
    "pycharm": {
     "name": "#%%\n"
    }
   },
   "execution_count": 86,
   "outputs": []
  },
  {
   "cell_type": "code",
   "source": [
    "selected_columns = scaletrain.columns[columns]\n",
    "selected_columns"
   ],
   "metadata": {
    "colab": {
     "base_uri": "https://localhost:8080/"
    },
    "id": "_-Alp48f46Lt",
    "outputId": "66c18e0f-3580-4bfa-db93-34b9196835f7",
    "pycharm": {
     "name": "#%%\n"
    }
   },
   "execution_count": 87,
   "outputs": [
    {
     "output_type": "execute_result",
     "data": {
      "text/plain": [
       "Int64Index([ 0,  1,  2,  3,  4,  5,  6,  7,  8,  9, 10, 11, 12, 13, 14, 15, 16,\n",
       "            17, 18, 19, 20, 21, 22, 23, 24, 27, 28, 29, 30, 32, 33, 34, 35, 36,\n",
       "            37, 38, 39, 40, 41, 42, 43],\n",
       "           dtype='int64')"
      ]
     },
     "metadata": {},
     "execution_count": 87
    }
   ]
  },
  {
   "cell_type": "code",
   "source": [
    "cortrain=scaletrain[selected_columns]"
   ],
   "metadata": {
    "id": "W8Ramk578Krr",
    "pycharm": {
     "name": "#%%\n"
    }
   },
   "execution_count": 91,
   "outputs": []
  },
  {
   "cell_type": "code",
   "source": [
    "cortrain.info()"
   ],
   "metadata": {
    "id": "zwO2raGW8e1U",
    "pycharm": {
     "name": "#%%\n"
    }
   },
   "execution_count": null,
   "outputs": []
  },
  {
   "cell_type": "code",
   "source": [
    "cortest=scaletest[selected_columns]"
   ],
   "metadata": {
    "id": "5XnzrMH4dCrs",
    "pycharm": {
     "name": "#%%\n"
    }
   },
   "execution_count": 89,
   "outputs": []
  },
  {
   "cell_type": "code",
   "source": [
    "cortrain['target']=target"
   ],
   "metadata": {
    "id": "AaaVCnyI8sD2",
    "pycharm": {
     "name": "#%%\n"
    }
   },
   "execution_count": 92,
   "outputs": []
  },
  {
   "cell_type": "markdown",
   "source": [
    "##Using pycaret to find the best model\n"
   ],
   "metadata": {
    "id": "uVBJGsBKvSG4",
    "pycharm": {
     "name": "#%% md\n"
    }
   }
  },
  {
   "cell_type": "code",
   "execution_count": null,
   "metadata": {
    "id": "_qMWXACKOrQm",
    "pycharm": {
     "name": "#%%\n"
    }
   },
   "outputs": [],
   "source": [
    "exp = setup(data=cortrain,target='target')"
   ]
  },
  {
   "cell_type": "code",
   "execution_count": null,
   "metadata": {
    "id": "bA4Dk_VGPpau",
    "pycharm": {
     "name": "#%%\n"
    }
   },
   "outputs": [],
   "source": [
    "best_model=compare_models(sort='RMSE')"
   ]
  },
  {
   "cell_type": "code",
   "execution_count": null,
   "metadata": {
    "id": "Wyvtl2SSPyxo",
    "pycharm": {
     "name": "#%%\n"
    }
   },
   "outputs": [],
   "source": [
    "best_tune=tune_model(best_model)"
   ]
  },
  {
   "cell_type": "markdown",
   "source": [
    "## Light Gradient Boosting Machine gives the best RMSE and R2"
   ],
   "metadata": {
    "id": "s-ROAEbuvdQO",
    "pycharm": {
     "name": "#%% md\n"
    }
   }
  },
  {
   "cell_type": "code",
   "source": [
    "model=lightgbm.LGBMRegressor(bagging_fraction=0.6, bagging_freq=4, boosting_type='gbdt',\n",
    "              class_weight=None, colsample_bytree=1.0, feature_fraction=0.6,\n",
    "              importance_type='split', learning_rate=0.05, max_depth=-1,\n",
    "              min_child_samples=11, min_child_weight=0.001, min_split_gain=0.5,\n",
    "              n_estimators=270, n_jobs=-1, num_leaves=90, objective=None,\n",
    "              random_state=7898, reg_alpha=2, reg_lambda=5, silent='warn',\n",
    "              subsample=1.0, subsample_for_bin=200000, subsample_freq=0)"
   ],
   "metadata": {
    "id": "5LItC_V9mhur",
    "pycharm": {
     "name": "#%%\n"
    }
   },
   "execution_count": 93,
   "outputs": []
  },
  {
   "cell_type": "code",
   "source": [
    "model_pkl=model.fit(cortrain.iloc[:, :-1], cortrain.iloc[:, -1])"
   ],
   "metadata": {
    "id": "UKrm7QrZm-L_",
    "pycharm": {
     "name": "#%%\n"
    }
   },
   "execution_count": 94,
   "outputs": []
  },
  {
   "cell_type": "markdown",
   "source": [
    "Storing trained model in pickle"
   ],
   "metadata": {
    "id": "Ivhu-kt2vsfR",
    "pycharm": {
     "name": "#%% md\n"
    }
   }
  },
  {
   "cell_type": "code",
   "source": [
    "dump(model_pkl, open('lgbm_model.pkl', 'wb'))"
   ],
   "metadata": {
    "id": "S0s-mIl-nFT2",
    "pycharm": {
     "name": "#%%\n"
    }
   },
   "execution_count": 99,
   "outputs": []
  },
  {
   "cell_type": "code",
   "source": [
    "submit=pd.DataFrame()\n",
    "submit['rent']=model_pkl.predict(cortest)\n",
    "submit.to_csv('submission.csv',index=False,)"
   ],
   "metadata": {
    "id": "7a25fwXycHza",
    "pycharm": {
     "name": "#%%\n"
    }
   },
   "execution_count": 98,
   "outputs": []
  },
  {
   "cell_type": "markdown",
   "source": [
    "Deployed on github\n",
    "https://github.com/roaringsingh\n"
   ],
   "metadata": {
    "id": "wnvDGOZ1wSgP",
    "pycharm": {
     "name": "#%% md\n"
    }
   }
  },
  {
   "cell_type": "markdown",
   "source": [
    "Submitted By: Prabhnoor Singh\n"
   ],
   "metadata": {
    "id": "OCcOkO55wmzK",
    "pycharm": {
     "name": "#%% md\n"
    }
   }
  }
 ],
 "metadata": {
  "colab": {
   "provenance": [],
   "collapsed_sections": []
  },
  "kernelspec": {
   "display_name": "Python 3",
   "name": "python3"
  },
  "language_info": {
   "name": "python"
  }
 },
 "nbformat": 4,
 "nbformat_minor": 0
}